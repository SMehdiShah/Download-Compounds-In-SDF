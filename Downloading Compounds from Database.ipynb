{
 "cells": [
  {
   "cell_type": "markdown",
   "id": "7de462f3-f07d-4c4f-beac-df46ae40cf7e",
   "metadata": {},
   "source": [
    "## 📦 Install Required Library"
   ]
  },
  {
   "cell_type": "markdown",
   "id": "46853d1f-7da6-4f7b-953b-4661ce649a8c",
   "metadata": {},
   "source": [
    "### tqdm is used to display a progress bar during download"
   ]
  },
  {
   "cell_type": "code",
   "execution_count": 2,
   "id": "237d64e0-3480-40a4-8393-22ba982e8bdd",
   "metadata": {},
   "outputs": [
    {
     "name": "stdout",
     "output_type": "stream",
     "text": [
      "Collecting tqdm\n",
      "  Downloading tqdm-4.67.1-py3-none-any.whl.metadata (57 kB)\n",
      "Requirement already satisfied: colorama in c:\\users\\s mehdi shah\\appdata\\local\\programs\\python\\python312\\lib\\site-packages (from tqdm) (0.4.6)\n",
      "Downloading tqdm-4.67.1-py3-none-any.whl (78 kB)\n",
      "Installing collected packages: tqdm\n",
      "Successfully installed tqdm-4.67.1\n"
     ]
    },
    {
     "name": "stderr",
     "output_type": "stream",
     "text": [
      "\n",
      "[notice] A new release of pip is available: 25.0.1 -> 25.1.1\n",
      "[notice] To update, run: C:\\Users\\S MEHDI SHAH\\AppData\\Local\\Programs\\Python\\Python312\\python.exe -m pip install --upgrade pip\n"
     ]
    }
   ],
   "source": [
    "!pip install tqdm"
   ]
  },
  {
   "cell_type": "markdown",
   "id": "f2ed6a43-213f-4076-b553-a9bc5b007609",
   "metadata": {},
   "source": [
    "## 📚 Import Required Modules"
   ]
  },
  {
   "cell_type": "code",
   "execution_count": 3,
   "id": "90a1278d-2e6e-4397-81d8-8ac96f7df84d",
   "metadata": {},
   "outputs": [],
   "source": [
    "import requests          # To send HTTP requests\n",
    "import os                # For file operations (not heavily used here)\n",
    "from tqdm import tqdm    # To show a progress bar while downloading"
   ]
  },
  {
   "cell_type": "markdown",
   "id": "3aa4b5ef-2d74-46cb-a7c2-2393d21c8fea",
   "metadata": {},
   "source": [
    "## 🧬 Step 1: Provide List of Compound IDs"
   ]
  },
  {
   "cell_type": "markdown",
   "id": "900bf04b-8863-4b42-93c2-fc0860c264de",
   "metadata": {},
   "source": [
    "### These are compound IDs from the Natural Products Atlas (NPAtlas)"
   ]
  },
  {
   "cell_type": "code",
   "execution_count": 4,
   "id": "bb3cbf82-d555-4247-acc3-30f21bcae81b",
   "metadata": {},
   "outputs": [],
   "source": [
    "compound_ids = [\n",
    "    \"NPA001610\", \"NPA034958\", \"NPA008722\", \"NPA002681\", \"NPA002681\", \"NPA007612\",\n",
    "    \"NPA007612\", \"NPA005699\", \"NPA006564\", \"NPA006564\", \"NPA010979\", \"NPA010979\",\n",
    "    \"NPA020779\", \"NPA023382\", \"NPA010713\", \"NPA010713\", \"NPA011983\", \"NPA011983\",\n",
    "    \"NPA020777\", \"NPA012230\", \"NPA016762\", \"NPA002361\", \"NPA033178\", \"NPA035539\",\n",
    "    \"NPA033178\", \"NPA035539\", \"NPA019878\", \"NPA008672\", \"NPA011609\", \"NPA019587\",\n",
    "    \"NPA034210\", \"NPA033083\", \"NPA015833\", \"NPA015833\", \"NPA020869\", \"NPA017664\",\n",
    "    \"NPA017664\", \"NPA035985\", \"NPA035986\", \"NPA020869\", \"NPA001814\", \"NPA001814\",\n",
    "    \"NPA017591\", \"NPA017591\", \"NPA035554\", \"NPA035555\", \"NPA024138\", \"NPA032735\",\n",
    "    \"NPA023171\", \"NPA032735\", \"NPA022599\", \"NPA022594\", \"NPA020780\", \"NPA020780\",\n",
    "    \"NPA031144\", \"NPA031144\", \"NPA025659\", \"NPA027081\", \"NPA033082\", \"NPA033082\",\n",
    "    \"NPA026594\", \"NPA033083\", \"NPA034956\", \"NPA021555\", \"NPA012669\", \"NPA015553\",\n",
    "    \"NPA020976\", \"NPA031748\", \"NPA031748\", \"NPA009208\", \"NPA009208\", \"NPA000421\",\n",
    "    \"NPA000421\", \"NPA034211\", \"NPA011627\", \"NPA013943\", \"NPA030144\", \"NPA030144\",\n",
    "    \"NPA034909\", \"NPA034909\", \"NPA002235\", \"NPA017166\", \"NPA034141\", \"NPA016668\",\n",
    "    \"NPA030460\", \"NPA030461\", \"NPA027105\", \"NPA032736\", \"NPA027245\", \"NPA027246\",\n",
    "    \"NPA027245\", \"NPA027246\", \"NPA036583\", \"NPA036583\", \"NPA032682\", \"NPA007995\",\n",
    "    \"NPA007995\", \"NPA036452\", \"NPA032736\", \"NPA012967\", \"NPA004548\", \"NPA027909\",\n",
    "    \"NPA011811\", \"NPA011811\", \"NPA016918\", \"NPA001117\", \"NPA031946\", \"NPA031946\",\n",
    "    \"NPA027249\", \"NPA027251\", \"NPA014446\", \"NPA001985\", \"NPA001985\", \"NPA027249\",\n",
    "    \"NPA027251\", \"NPA027248\", \"NPA027250\", \"NPA027248\", \"NPA027250\", \"NPA012122\",\n",
    "    \"NPA014249\", \"NPA012122\", \"NPA034911\", \"NPA034911\", \"NPA014966\", \"NPA014966\",\n",
    "    \"NPA002051\", \"NPA007240\", \"NPA002051\", \"NPA031202\", \"NPA031203\", \"NPA031202\",\n",
    "    \"NPA031203\", \"NPA031202\", \"NPA031203\", \"NPA027878\", \"NPA025660\", \"NPA011649\",\n",
    "    \"NPA000147\", \"NPA007240\", \"NPA011613\", \"NPA006328\", \"NPA034577\", \"NPA006328\",\n",
    "    \"NPA021618\", \"NPA031511\", \"NPA036592\", \"NPA027256\", \"NPA027257\", \"NPA004503\",\n",
    "    \"NPA027256\", \"NPA027257\", \"NPA022951\", \"NPA022952\", \"NPA031038\", \"NPA031038\",\n",
    "    \"NPA035890\", \"NPA035890\", \"NPA035890\", \"NPA021547\", \"NPA021550\", \"NPA022951\",\n",
    "    \"NPA022952\", \"NPA015133\", \"NPA033022\", \"NPA021549\", \"NPA006854\", \"NPA006854\",\n",
    "    \"NPA006854\", \"NPA001734\", \"NPA012535\", \"NPA024462\", \"NPA004055\", \"NPA004718\",\n",
    "    \"NPA004718\", \"NPA003304\", \"NPA003516\", \"NPA003516\", \"NPA006597\", \"NPA013904\",\n",
    "    \"NPA029463\", \"NPA029463\", \"NPA029463\", \"NPA011835\", \"NPA001859\", \"NPA021965\",\n",
    "    \"NPA021965\", \"NPA021965\", \"NPA021965\", \"NPA021965\", \"NPA009861\", \"NPA009861\",\n",
    "    \"NPA023450\", \"NPA032792\", \"NPA032792\", \"NPA034969\", \"NPA016029\", \"NPA016029\",\n",
    "    \"NPA023325\", \"NPA022306\", \"NPA022919\", \"NPA016029\", \"NPA030462\", \"NPA002258\",\n",
    "    \"NPA002258\", \"NPA002655\", \"NPA006209\", \"NPA035361\", \"NPA031200\", \"NPA031201\",\n",
    "    \"NPA031200\", \"NPA031201\", \"NPA031200\", \"NPA031201\", \"NPA009556\", \"NPA009556\",\n",
    "    \"NPA016578\", \"NPA016578\", \"NPA016578\", \"NPA021548\", \"NPA033404\", \"NPA001743\",\n",
    "    \"NPA001743\", \"NPA013780\", \"NPA007154\", \"NPA012825\", \"NPA012825\", \"NPA030372\",\n",
    "    \"NPA030372\", \"NPA018844\", \"NPA018844\", \"NPA012179\", \"NPA012179\", \"NPA029930\",\n",
    "    \"NPA002256\", \"NPA013197\", \"NPA032382\", \"NPA017763\", \"NPA003034\", \"NPA003034\",\n",
    "    \"NPA019109\", \"NPA019109\", \"NPA019109\", \"NPA009848\", \"NPA032683\", \"NPA025662\",\n",
    "    \"NPA025662\", \"NPA002308\", \"NPA015724\", \"NPA017922\", \"NPA017922\", \"NPA017922\",\n",
    "    \"NPA017922\", \"NPA017922\", \"NPA033388\", \"NPA017640\", \"NPA017640\", \"NPA005178\",\n",
    "    \"NPA010756\", \"NPA030273\", \"NPA030273\", \"NPA006820\", \"NPA006820\", \"NPA010756\",\n",
    "    \"NPA010756\", \"NPA009407\", \"NPA005057\", \"NPA009058\", \"NPA010074\", \"NPA018865\",\n",
    "    \"NPA011149\", \"NPA011149\", \"NPA004260\", \"NPA005178\", \"NPA005178\", \"NPA009430\",\n",
    "    \"NPA005057\", \"NPA005057\", \"NPA034185\", \"NPA010200\", \"NPA018980\", \"NPA018980\",\n",
    "    \"NPA034275\", \"NPA007565\", \"NPA023330\", \"NPA023331\", \"NPA023330\", \"NPA023331\",\n",
    "    \"NPA014954\", \"NPA014954\", \"NPA012620\", \"NPA034823\"\n",
    "]"
   ]
  },
  {
   "cell_type": "markdown",
   "id": "1caa424a-f074-4a6c-a447-6832bd1a2269",
   "metadata": {},
   "source": [
    "## 🌐 Step 2: Define API Base URL"
   ]
  },
  {
   "cell_type": "markdown",
   "id": "e990feca-347d-4412-a686-fe0d32bd9a1f",
   "metadata": {},
   "source": [
    "### This is the NPAtlas API endpoint used to fetch compound data in SDF format"
   ]
  },
  {
   "cell_type": "code",
   "execution_count": 5,
   "id": "a4dc6170-dada-4b82-9fd4-0c74e094b0d9",
   "metadata": {},
   "outputs": [],
   "source": [
    "base_url = 'https://www.npatlas.org/api/v1/compound/{}/mol?encode=sdf'"
   ]
  },
  {
   "cell_type": "markdown",
   "id": "67bc3a07-0ccc-4c67-9116-049399dd0134",
   "metadata": {},
   "source": [
    "## 💾 Step 3: Set Output File Path"
   ]
  },
  {
   "cell_type": "markdown",
   "id": "d82cf275-785d-4ccb-b5b1-3a078144ba52",
   "metadata": {},
   "source": [
    "### This is the file where all downloaded compounds will be merged and saved"
   ]
  },
  {
   "cell_type": "code",
   "execution_count": 6,
   "id": "94bc4bb0-f9ff-4eef-bb72-99ac34b4f8ce",
   "metadata": {},
   "outputs": [],
   "source": [
    "merged_sdf_path = 'npatlas_merged.sdf'"
   ]
  },
  {
   "cell_type": "markdown",
   "id": "0d6fdcfd-903a-4cd9-965d-56d4420f3bf7",
   "metadata": {},
   "source": [
    "## 📥 Step 4: Download and Merge Compounds"
   ]
  },
  {
   "cell_type": "markdown",
   "id": "09090750-0f26-482d-a365-e87e08030ae8",
   "metadata": {},
   "source": [
    "### This block downloads SDF files for each compound and writes them into a single SDF file"
   ]
  },
  {
   "cell_type": "code",
   "execution_count": 7,
   "id": "b11de2ea-ba0c-414a-8848-dd6f5cc3c8df",
   "metadata": {},
   "outputs": [
    {
     "name": "stderr",
     "output_type": "stream",
     "text": [
      "Downloading compounds: 100%|█████████████████████████████████████████████████████████| 292/292 [04:30<00:00,  1.08it/s]\n"
     ]
    }
   ],
   "source": [
    "with open(merged_sdf_path, 'wb') as merged_file:\n",
    "    # Using tqdm to display progress\n",
    "    for compound_id in tqdm(compound_ids, desc=\"Downloading compounds\"):\n",
    "        try:\n",
    "            # Construct the full URL for each compound\n",
    "            full_url = base_url.format(compound_id)\n",
    "            response = requests.get(full_url)\n",
    "\n",
    "            # If request is successful, write the SDF content to the output file\n",
    "            if response.status_code == 200:\n",
    "                merged_file.write(response.content)\n",
    "                merged_file.write(b'\\n$$$$\\n')  # Standard separator for SDF files\n",
    "            else:\n",
    "                print(f\"❌ Failed: {compound_id} (Status {response.status_code})\")\n",
    "\n",
    "        except Exception as e:\n",
    "            print(f\"⚠️ Error downloading {compound_id}: {e}\")"
   ]
  },
  {
   "cell_type": "markdown",
   "id": "de7214ae-a1e7-4192-9fb1-2113f95da77f",
   "metadata": {},
   "source": [
    "## ✅ Step 5: Confirmation Message"
   ]
  },
  {
   "cell_type": "code",
   "execution_count": 8,
   "id": "63a5891e-b28d-44a3-aad5-591380f7f4d1",
   "metadata": {},
   "outputs": [
    {
     "name": "stdout",
     "output_type": "stream",
     "text": [
      "\n",
      "✅ All compounds downloaded and merged into: npatlas_merged.sdf\n"
     ]
    }
   ],
   "source": [
    "print(\"\\n✅ All compounds downloaded and merged into:\", merged_sdf_path)"
   ]
  },
  {
   "cell_type": "code",
   "execution_count": null,
   "id": "de3e93d3-8d05-4eb2-9f42-5e150ebd9446",
   "metadata": {},
   "outputs": [],
   "source": []
  }
 ],
 "metadata": {
  "kernelspec": {
   "display_name": "Python 3 (ipykernel)",
   "language": "python",
   "name": "python3"
  },
  "language_info": {
   "codemirror_mode": {
    "name": "ipython",
    "version": 3
   },
   "file_extension": ".py",
   "mimetype": "text/x-python",
   "name": "python",
   "nbconvert_exporter": "python",
   "pygments_lexer": "ipython3",
   "version": "3.12.7"
  }
 },
 "nbformat": 4,
 "nbformat_minor": 5
}
